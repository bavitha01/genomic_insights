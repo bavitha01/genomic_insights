{
 "cells": [
  {
   "metadata": {},
   "cell_type": "code",
   "outputs": [],
   "execution_count": null,
   "source": [
    "# Import libraries\n",
    "from Bio import Entrez, SeqIO\n",
    "from Bio.SeqUtils import GC\n",
    "import matplotlib.pyplot as plt\n",
    "\n",
    "# Fetch and analyze sequences\n",
    "Entrez.email = \"your_email@example.com\"\n",
    "sequence_ids = [\"NM_007294\", \"NM_000546\", \"NM_005228\"]\n",
    "gc_values = []\n",
    "\n",
    "for seq_id in sequence_ids:\n",
    "    handle = Entrez.efetch(db=\"nucleotide\", id=seq_id, rettype=\"gb\", retmode=\"text\")\n",
    "    record = SeqIO.read(handle, \"genbank\")\n",
    "    gc_values.append(GC(record.seq))\n",
    "    handle.close()\n",
    "\n",
    "# Plot GC content\n",
    "plt.bar(sequence_ids, gc_values)\n",
    "plt.xlabel(\"Sequence ID\")\n",
    "plt.ylabel(\"GC Content (%)\")\n",
    "plt.title(\"GC Content of Sequences\")\n",
    "plt.show()"
   ],
   "id": "a2875ffcf7e5ca53"
  }
 ],
 "metadata": {},
 "nbformat": 5,
 "nbformat_minor": 9
}
